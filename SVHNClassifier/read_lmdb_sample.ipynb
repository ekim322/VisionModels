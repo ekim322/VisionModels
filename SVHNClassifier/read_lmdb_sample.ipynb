{
 "cells": [
  {
   "cell_type": "code",
   "execution_count": 1,
   "metadata": {},
   "outputs": [
    {
     "name": "stdout",
     "output_type": "stream",
     "text": [
      "Populating the interactive namespace from numpy and matplotlib\n"
     ]
    }
   ],
   "source": [
    "import lmdb\n",
    "import example_pb2\n",
    "%pylab inline"
   ]
  },
  {
   "cell_type": "code",
   "execution_count": 2,
   "metadata": {},
   "outputs": [],
   "source": [
    "path_to_lmdb_dir = './data/train.lmdb'\n",
    "reader = lmdb.open(path_to_lmdb_dir)\n",
    "txn = reader.begin()\n",
    "cursor = txn.cursor()"
   ]
  },
  {
   "cell_type": "code",
   "execution_count": 5,
   "metadata": {},
   "outputs": [
    {
     "name": "stdout",
     "output_type": "stream",
     "text": [
      "key: 00000021\n",
      "key: 00000022\n",
      "key: 00000023\n",
      "key: 00000024\n",
      "key: 00000025\n",
      "key: 00000026\n",
      "key: 00000027\n",
      "key: 00000028\n",
      "key: 00000029\n",
      "key: 00000030\n"
     ]
    }
   ],
   "source": [
    "for _ in range(10):    \n",
    "    cursor.next()\n",
    "    key, value = cursor.item()\n",
    "    example = example_pb2.Example()\n",
    "    example.ParseFromString(value)\n",
    "    print('key:', key.decode())\n",
    "    \n",
    "#     image = np.frombuffer(example.image, dtype=np.uint8)\n",
    "#     length = example.length\n",
    "#     digits = example.digits\n",
    "#     print('length: %d, digits: %d,%d,%d,%d,%d' % (\n",
    "#     length, digits[0], digits[1], digits[2], digits[3], digits[4]))\n",
    "\n",
    "#     imshow(image.reshape([64, 64, 3]))"
   ]
  },
  {
   "cell_type": "code",
   "execution_count": 4,
   "metadata": {},
   "outputs": [],
   "source": [
    "image = np.frombuffer(example.image, dtype=np.uint8)\n",
    "length = example.length\n",
    "digits = example.digits"
   ]
  },
  {
   "cell_type": "code",
   "execution_count": 5,
   "metadata": {},
   "outputs": [
    {
     "name": "stdout",
     "output_type": "stream",
     "text": [
      "length: 2, digits: 7,8,10,10,10\n"
     ]
    },
    {
     "data": {
      "text/plain": [
       "<matplotlib.image.AxesImage at 0x7fa667fef080>"
      ]
     },
     "execution_count": 5,
     "metadata": {},
     "output_type": "execute_result"
    },
    {
     "data": {
      "image/png": "[encoded data removed]",
      "text/plain": [
       "<Figure size 432x288 with 1 Axes>"
      ]
     },
     "metadata": {
      "needs_background": "light"
     },
     "output_type": "display_data"
    }
   ],
   "source": [
    "print('length: %d, digits: %d,%d,%d,%d,%d' % (\n",
    "    length, digits[0], digits[1], digits[2], digits[3], digits[4]))\n",
    "\n",
    "imshow(image.reshape([64, 64, 3]))"
   ]
  },
  {
   "cell_type": "code",
   "execution_count": 6,
   "metadata": {},
   "outputs": [],
   "source": [
    "cursor.close()\n",
    "reader.close()"
   ]
  }
 ],
 "metadata": {
  "kernelspec": {
   "display_name": "Python 3",
   "language": "python",
   "name": "python3"
  },
  "language_info": {
   "codemirror_mode": {
    "name": "ipython",
    "version": 3
   },
   "file_extension": ".py",
   "mimetype": "text/x-python",
   "name": "python",
   "nbconvert_exporter": "python",
   "pygments_lexer": "ipython3",
   "version": "3.7.3"
  }
 },
 "nbformat": 4,
 "nbformat_minor": 2
}
