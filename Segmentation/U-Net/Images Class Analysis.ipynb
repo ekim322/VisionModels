{
 "cells": [
  {
   "cell_type": "code",
   "execution_count": 26,
   "metadata": {},
   "outputs": [],
   "source": [
    "import os\n",
    "import cv2\n",
    "import numpy as np\n",
    "from tqdm import tqdm"
   ]
  },
  {
   "cell_type": "code",
   "execution_count": 27,
   "metadata": {},
   "outputs": [],
   "source": [
    "train_imgs_dir = '../../../cityscapes_data/gtCoarse/my_train/'\n",
    "val_imgs_dir = '../../../cityscapes_data/gtCoarse/my_val/'\n",
    "\n",
    "train_imgs_files = os.listdir(train_imgs_dir)\n",
    "val_imgs_files = os.listdir(val_imgs_dir)"
   ]
  },
  {
   "cell_type": "code",
   "execution_count": 28,
   "metadata": {},
   "outputs": [],
   "source": [
    "train_labels_files = os.listdir(train_imgs_dir)\n",
    "val_labels_files = os.listdir(val_imgs_dir)"
   ]
  },
  {
   "cell_type": "code",
   "execution_count": 29,
   "metadata": {},
   "outputs": [
    {
     "data": {
      "text/plain": [
       "(22973, 500)"
      ]
     },
     "execution_count": 29,
     "metadata": {},
     "output_type": "execute_result"
    }
   ],
   "source": [
    "len(train_labels_files), len(val_labels_files)"
   ]
  },
  {
   "cell_type": "code",
   "execution_count": 30,
   "metadata": {},
   "outputs": [
    {
     "data": {
      "text/plain": [
       "'freiburg_000000_000083_gtCoarse_labelTrainIds.png'"
      ]
     },
     "execution_count": 30,
     "metadata": {},
     "output_type": "execute_result"
    }
   ],
   "source": [
    "train_labels_files[0]"
   ]
  },
  {
   "cell_type": "code",
   "execution_count": 31,
   "metadata": {},
   "outputs": [
    {
     "name": "stderr",
     "output_type": "stream",
     "text": [
      "100%|██████████| 22973/22973 [07:38<00:00, 44.39it/s]"
     ]
    },
    {
     "name": "stdout",
     "output_type": "stream",
     "text": [
      "Road in  22907\n"
     ]
    },
    {
     "name": "stderr",
     "output_type": "stream",
     "text": [
      "\n"
     ]
    },
    {
     "ename": "NameError",
     "evalue": "name 'cards' is not defined",
     "output_type": "error",
     "traceback": [
      "\u001b[0;31m---------------------------------------------------------------------------\u001b[0m",
      "\u001b[0;31mNameError\u001b[0m                                 Traceback (most recent call last)",
      "\u001b[0;32m<ipython-input-31-10b955640c11>\u001b[0m in \u001b[0;36m<module>\u001b[0;34m\u001b[0m\n\u001b[1;32m     19\u001b[0m \u001b[0;34m\u001b[0m\u001b[0m\n\u001b[1;32m     20\u001b[0m \u001b[0mprint\u001b[0m\u001b[0;34m(\u001b[0m\u001b[0;34m\"Road in \"\u001b[0m\u001b[0;34m,\u001b[0m \u001b[0mroad\u001b[0m\u001b[0;34m)\u001b[0m\u001b[0;34m\u001b[0m\u001b[0;34m\u001b[0m\u001b[0m\n\u001b[0;32m---> 21\u001b[0;31m \u001b[0mprint\u001b[0m\u001b[0;34m(\u001b[0m\u001b[0;34m\"Cars in \"\u001b[0m\u001b[0;34m,\u001b[0m \u001b[0mcards\u001b[0m\u001b[0;34m)\u001b[0m\u001b[0;34m\u001b[0m\u001b[0;34m\u001b[0m\u001b[0m\n\u001b[0m\u001b[1;32m     22\u001b[0m \u001b[0mprint\u001b[0m\u001b[0;34m(\u001b[0m\u001b[0;34m\"Only Road in \"\u001b[0m\u001b[0;34m,\u001b[0m \u001b[0monly_road\u001b[0m\u001b[0;34m)\u001b[0m\u001b[0;34m\u001b[0m\u001b[0;34m\u001b[0m\u001b[0m\n\u001b[1;32m     23\u001b[0m \u001b[0mprint\u001b[0m\u001b[0;34m(\u001b[0m\u001b[0;34m\"Only Cars in \"\u001b[0m\u001b[0;34m,\u001b[0m \u001b[0monly_cars\u001b[0m\u001b[0;34m)\u001b[0m\u001b[0;34m\u001b[0m\u001b[0;34m\u001b[0m\u001b[0m\n",
      "\u001b[0;31mNameError\u001b[0m: name 'cards' is not defined"
     ]
    }
   ],
   "source": [
    "road = 0\n",
    "cars = 0\n",
    "only_road = 0\n",
    "only_cars = 0\n",
    "both = 0\n",
    "\n",
    "for f in tqdm(train_labels_files):\n",
    "    im = cv2.imread(os.path.join(train_imgs_dir, f))\n",
    "    if 1 in im:\n",
    "        road += 1\n",
    "    if 2 in im:\n",
    "        cars += 1\n",
    "    if (1 in im) and (2 not in im):\n",
    "        only_road += 1\n",
    "    if (1 not in im) and (2 in im):\n",
    "        only_cars += 1\n",
    "    if (1 in im) and (2 in im):\n",
    "        both += 1"
   ]
  },
  {
   "cell_type": "code",
   "execution_count": 32,
   "metadata": {},
   "outputs": [
    {
     "name": "stdout",
     "output_type": "stream",
     "text": [
      "Road in  22907\n",
      "Cars in  19770\n",
      "Only Road in  3188\n",
      "Only Cars in  51\n",
      "Both in  19719\n"
     ]
    }
   ],
   "source": [
    "print(\"Road in \", road)\n",
    "print(\"Cars in \", cars)\n",
    "print(\"Only Road in \", only_road)\n",
    "print(\"Only Cars in \", only_cars)\n",
    "print(\"Both in \", both)"
   ]
  },
  {
   "cell_type": "code",
   "execution_count": 6,
   "metadata": {},
   "outputs": [
    {
     "data": {
      "text/plain": [
       "<generator object walk at 0x7f02bfe618b8>"
      ]
     },
     "execution_count": 6,
     "metadata": {},
     "output_type": "execute_result"
    }
   ],
   "source": [
    "os.walk('../../../cityscapes_data/leftImg8bit/train')"
   ]
  },
  {
   "cell_type": "code",
   "execution_count": 7,
   "metadata": {},
   "outputs": [
    {
     "name": "stdout",
     "output_type": "stream",
     "text": [
      "../../../cityscapes_data/leftImg8bit/train/krefeld/krefeld_000000_017489_leftImg8bit.png\n",
      "../../../cityscapes_data/leftImg8bit/train/bremen/bremen_000031_000019_leftImg8bit.png\n",
      "../../../cityscapes_data/leftImg8bit/train/jena/jena_000017_000019_leftImg8bit.png\n",
      "../../../cityscapes_data/leftImg8bit/train/cologne/cologne_000026_000019_leftImg8bit.png\n",
      "../../../cityscapes_data/leftImg8bit/train/darmstadt/darmstadt_000025_000019_leftImg8bit.png\n",
      "../../../cityscapes_data/leftImg8bit/train/weimar/weimar_000030_000019_leftImg8bit.png\n",
      "../../../cityscapes_data/leftImg8bit/train/tubingen/tubingen_000015_000019_leftImg8bit.png\n",
      "../../../cityscapes_data/leftImg8bit/train/erfurt/erfurt_000013_000019_leftImg8bit.png\n",
      "../../../cityscapes_data/leftImg8bit/train/ulm/ulm_000024_000019_leftImg8bit.png\n",
      "../../../cityscapes_data/leftImg8bit/train/stuttgart/stuttgart_000035_000019_leftImg8bit.png\n",
      "../../../cityscapes_data/leftImg8bit/train/aachen/aachen_000101_000019_leftImg8bit.png\n",
      "../../../cityscapes_data/leftImg8bit/train/zurich/zurich_000003_000019_leftImg8bit.png\n",
      "../../../cityscapes_data/leftImg8bit/train/hamburg/hamburg_000000_048750_leftImg8bit.png\n",
      "../../../cityscapes_data/leftImg8bit/train/monchengladbach/monchengladbach_000000_025215_leftImg8bit.png\n",
      "../../../cityscapes_data/leftImg8bit/train/bochum/bochum_000000_028764_leftImg8bit.png\n",
      "../../../cityscapes_data/leftImg8bit/train/strasbourg/strasbourg_000000_000295_leftImg8bit.png\n",
      "../../../cityscapes_data/leftImg8bit/train/dusseldorf/dusseldorf_000196_000019_leftImg8bit.png\n",
      "../../../cityscapes_data/leftImg8bit/train/hanover/hanover_000000_057532_leftImg8bit.png\n"
     ]
    }
   ],
   "source": [
    "for path, subdirs, files in os.walk('../../../cityscapes_data/leftImg8bit/train'):\n",
    "    for name in files:\n",
    "        print(os.path.join(path, name))\n",
    "        break"
   ]
  }
 ],
 "metadata": {
  "kernelspec": {
   "display_name": "Python 3",
   "language": "python",
   "name": "python3"
  },
  "language_info": {
   "codemirror_mode": {
    "name": "ipython",
    "version": 3
   },
   "file_extension": ".py",
   "mimetype": "text/x-python",
   "name": "python",
   "nbconvert_exporter": "python",
   "pygments_lexer": "ipython3",
   "version": "3.7.3"
  }
 },
 "nbformat": 4,
 "nbformat_minor": 2
}
